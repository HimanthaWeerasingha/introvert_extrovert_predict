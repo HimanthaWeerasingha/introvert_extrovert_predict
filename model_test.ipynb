{
 "cells": [
  {
   "cell_type": "markdown",
   "id": "4264fba5",
   "metadata": {},
   "source": [
    "Project: Introvert or Extrovert Prediction\n",
    "\n",
    "Task: Model Test\n",
    "\n",
    "Candidate: Himantha Weerasingha"
   ]
  },
  {
   "cell_type": "code",
   "execution_count": 1,
   "id": "c75cf90b",
   "metadata": {},
   "outputs": [],
   "source": [
    "# Import libaries\n",
    "import joblib\n",
    "import pandas as pd\n",
    "import os"
   ]
  },
  {
   "cell_type": "code",
   "execution_count": null,
   "id": "e3e23faf",
   "metadata": {},
   "outputs": [
    {
     "name": "stdout",
     "output_type": "stream",
     "text": [
      "Model loaded.\n"
     ]
    }
   ],
   "source": [
    "# Load the saved model\n",
    "model = joblib.load('best_model.pkl')\n",
    "print(\"Model loaded.\")"
   ]
  },
  {
   "cell_type": "code",
   "execution_count": 18,
   "id": "6490506d",
   "metadata": {},
   "outputs": [],
   "source": [
    "# Example sample input \n",
    "\n",
    "sample = pd.DataFrame([{\n",
    "    'Time_spent_Alone': 3,\n",
    "    'Stage_fear': \"No\",\n",
    "    'Social_event_attendance': 6,\n",
    "    'Going_outside': 4,\n",
    "    'Drained_after_socializing': \"No\",\n",
    "    'Friends_circle_size': 10,\n",
    "    'Post_frequency': 7\n",
    "}])\n",
    "\n",
    "sample['Stage_fear'] = sample['Stage_fear'].map({'Yes': 1, 'No': 0})\n",
    "sample['Drained_after_socializing'] = sample['Drained_after_socializing'].map({'Yes':1, 'No':0})"
   ]
  },
  {
   "cell_type": "code",
   "execution_count": 19,
   "id": "ae93276d",
   "metadata": {},
   "outputs": [
    {
     "name": "stdout",
     "output_type": "stream",
     "text": [
      "Predicted Personality: Extrovert\n"
     ]
    }
   ],
   "source": [
    "# Predict personality\n",
    "prediction = model.predict(sample)[0]\n",
    "\n",
    "# Interpret prediction\n",
    "personality = \"Introvert\" if prediction == 0 else \"Extrovert\"\n",
    "print(f\"Predicted Personality: {personality}\")"
   ]
  }
 ],
 "metadata": {
  "kernelspec": {
   "display_name": "Python 3",
   "language": "python",
   "name": "python3"
  },
  "language_info": {
   "codemirror_mode": {
    "name": "ipython",
    "version": 3
   },
   "file_extension": ".py",
   "mimetype": "text/x-python",
   "name": "python",
   "nbconvert_exporter": "python",
   "pygments_lexer": "ipython3",
   "version": "3.13.2"
  }
 },
 "nbformat": 4,
 "nbformat_minor": 5
}
