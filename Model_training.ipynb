{
 "cells": [
  {
   "cell_type": "markdown",
   "id": "ba6396da",
   "metadata": {},
   "source": [
    "Project: Introvert or Extrovert Prediction\n",
    "\n",
    "Task: Model Training\n",
    "\n",
    "Candidate: Himantha Weerasingha"
   ]
  },
  {
   "cell_type": "code",
   "execution_count": null,
   "id": "49a1a6e3",
   "metadata": {},
   "outputs": [],
   "source": [
    "#Import libaries\n",
    "import pandas as pd\n",
    "from sklearn.model_selection import train_test_split\n",
    "from sklearn.linear_model import LogisticRegression\n",
    "from sklearn.ensemble import RandomForestClassifier\n",
    "from sklearn.metrics import accuracy_score\n",
    "from sklearn.model_selection import KFold\n",
    "import os\n",
    "# import numpy as np\n",
    "import joblib\n"
   ]
  },
  {
   "cell_type": "code",
   "execution_count": 18,
   "id": "94691655",
   "metadata": {},
   "outputs": [],
   "source": [
    "# Define the path for cleaned dataset\n",
    "pwd = os.getcwd()\n",
    "dataset_path = f\"{pwd}\\\\Cleaned_dataset.csv\""
   ]
  },
  {
   "cell_type": "code",
   "execution_count": 19,
   "id": "75b24252",
   "metadata": {},
   "outputs": [
    {
     "data": {
      "text/html": [
       "<div>\n",
       "<style scoped>\n",
       "    .dataframe tbody tr th:only-of-type {\n",
       "        vertical-align: middle;\n",
       "    }\n",
       "\n",
       "    .dataframe tbody tr th {\n",
       "        vertical-align: top;\n",
       "    }\n",
       "\n",
       "    .dataframe thead th {\n",
       "        text-align: right;\n",
       "    }\n",
       "</style>\n",
       "<table border=\"1\" class=\"dataframe\">\n",
       "  <thead>\n",
       "    <tr style=\"text-align: right;\">\n",
       "      <th></th>\n",
       "      <th>Time_spent_Alone</th>\n",
       "      <th>Stage_fear</th>\n",
       "      <th>Social_event_attendance</th>\n",
       "      <th>Going_outside</th>\n",
       "      <th>Drained_after_socializing</th>\n",
       "      <th>Friends_circle_size</th>\n",
       "      <th>Post_frequency</th>\n",
       "      <th>Personality</th>\n",
       "    </tr>\n",
       "  </thead>\n",
       "  <tbody>\n",
       "    <tr>\n",
       "      <th>0</th>\n",
       "      <td>4.0</td>\n",
       "      <td>0</td>\n",
       "      <td>4.0</td>\n",
       "      <td>6.0</td>\n",
       "      <td>0</td>\n",
       "      <td>13.0</td>\n",
       "      <td>5.0</td>\n",
       "      <td>1</td>\n",
       "    </tr>\n",
       "    <tr>\n",
       "      <th>1</th>\n",
       "      <td>9.0</td>\n",
       "      <td>1</td>\n",
       "      <td>0.0</td>\n",
       "      <td>0.0</td>\n",
       "      <td>1</td>\n",
       "      <td>0.0</td>\n",
       "      <td>3.0</td>\n",
       "      <td>0</td>\n",
       "    </tr>\n",
       "    <tr>\n",
       "      <th>2</th>\n",
       "      <td>9.0</td>\n",
       "      <td>1</td>\n",
       "      <td>1.0</td>\n",
       "      <td>2.0</td>\n",
       "      <td>1</td>\n",
       "      <td>5.0</td>\n",
       "      <td>2.0</td>\n",
       "      <td>0</td>\n",
       "    </tr>\n",
       "    <tr>\n",
       "      <th>3</th>\n",
       "      <td>0.0</td>\n",
       "      <td>0</td>\n",
       "      <td>6.0</td>\n",
       "      <td>7.0</td>\n",
       "      <td>0</td>\n",
       "      <td>14.0</td>\n",
       "      <td>8.0</td>\n",
       "      <td>1</td>\n",
       "    </tr>\n",
       "    <tr>\n",
       "      <th>4</th>\n",
       "      <td>3.0</td>\n",
       "      <td>0</td>\n",
       "      <td>9.0</td>\n",
       "      <td>4.0</td>\n",
       "      <td>0</td>\n",
       "      <td>8.0</td>\n",
       "      <td>5.0</td>\n",
       "      <td>1</td>\n",
       "    </tr>\n",
       "  </tbody>\n",
       "</table>\n",
       "</div>"
      ],
      "text/plain": [
       "   Time_spent_Alone  Stage_fear  Social_event_attendance  Going_outside  \\\n",
       "0               4.0           0                      4.0            6.0   \n",
       "1               9.0           1                      0.0            0.0   \n",
       "2               9.0           1                      1.0            2.0   \n",
       "3               0.0           0                      6.0            7.0   \n",
       "4               3.0           0                      9.0            4.0   \n",
       "\n",
       "   Drained_after_socializing  Friends_circle_size  Post_frequency  Personality  \n",
       "0                          0                 13.0             5.0            1  \n",
       "1                          1                  0.0             3.0            0  \n",
       "2                          1                  5.0             2.0            0  \n",
       "3                          0                 14.0             8.0            1  \n",
       "4                          0                  8.0             5.0            1  "
      ]
     },
     "execution_count": 19,
     "metadata": {},
     "output_type": "execute_result"
    }
   ],
   "source": [
    "# Load the dataset\n",
    "df = pd.read_csv(dataset_path)\n",
    "df.head()"
   ]
  },
  {
   "cell_type": "code",
   "execution_count": null,
   "id": "67946933",
   "metadata": {},
   "outputs": [
    {
     "name": "stdout",
     "output_type": "stream",
     "text": [
      "Sage_fear unique data:  [0 1]\n",
      "Drained_after_socializing unique data:  [0 1]\n",
      "Personality unique data:  [1 0]\n",
      "\n",
      "Missing Values\n",
      "Time_spent_Alone             0\n",
      "Stage_fear                   0\n",
      "Social_event_attendance      0\n",
      "Going_outside                0\n",
      "Drained_after_socializing    0\n",
      "Friends_circle_size          0\n",
      "Post_frequency               0\n",
      "Personality                  0\n",
      "dtype: int64\n"
     ]
    }
   ],
   "source": [
    "# # Check for unwanted data (e.g. typos, unexpected values)\n",
    "# def mising_unwanted(data_frame):\n",
    "#     print('Sage_fear unique data: ',data_frame['Stage_fear'].unique())\n",
    "#     print('Drained_after_socializing unique data: ', data_frame['Drained_after_socializing'].unique())\n",
    "#     print('Personality unique data: ', data_frame['Personality'].unique())\n",
    "#     print(\"\\nMissing Values\")\n",
    "#     print(data_frame.isnull().sum())\n",
    "    \n",
    "# mising_unwanted(df)"
   ]
  },
  {
   "cell_type": "code",
   "execution_count": 20,
   "id": "b9368e8a",
   "metadata": {},
   "outputs": [],
   "source": [
    "# Split features and target\n",
    "x_dataset = df.drop('Personality', axis=1)\n",
    "y_dataset = df['Personality']"
   ]
  },
  {
   "cell_type": "code",
   "execution_count": null,
   "id": "bb28dc4b",
   "metadata": {},
   "outputs": [],
   "source": [
    "# split the dataset into train and test datasets\n",
    "# X_train, X_test, y_train, y_test = train_test_split(x_dataset, y_dataset, test_size=0.1, random_state=40)"
   ]
  },
  {
   "cell_type": "code",
   "execution_count": null,
   "id": "5fe04b2b",
   "metadata": {},
   "outputs": [],
   "source": [
    "# #Train the model\n",
    "# model = LogisticRegression()\n",
    "# model.fit(X_train, y_train)"
   ]
  },
  {
   "cell_type": "code",
   "execution_count": null,
   "id": "e1c4633f",
   "metadata": {},
   "outputs": [
    {
     "name": "stdout",
     "output_type": "stream",
     "text": [
      "✅ Model trained. Accuracy: 0.93\n"
     ]
    }
   ],
   "source": [
    "# # Evaluate the model\n",
    "# y_pred = model.predict(X_test)\n",
    "# accuracy = accuracy_score(y_test, y_pred)\n",
    "# print(f\"✅ Model trained. Accuracy: {accuracy:.2f}\")"
   ]
  },
  {
   "cell_type": "code",
   "execution_count": 21,
   "id": "62e3c9f2",
   "metadata": {},
   "outputs": [],
   "source": [
    "# Define models to compare\n",
    "models = {\n",
    "    \"LogisticRegression\": LogisticRegression(max_iter=1000),\n",
    "    \"RandomForest\": RandomForestClassifier(n_estimators=20),\n",
    "}"
   ]
  },
  {
   "cell_type": "code",
   "execution_count": 22,
   "id": "1ca236d1",
   "metadata": {},
   "outputs": [],
   "source": [
    "# Set up K-Fold Cross Validation\n",
    "k = 5 \n",
    "kf = KFold(n_splits=k, shuffle=True, random_state=42)"
   ]
  },
  {
   "cell_type": "code",
   "execution_count": 23,
   "id": "164d177d",
   "metadata": {},
   "outputs": [],
   "source": [
    "# Define some parameters for further uses\n",
    "best_avg_acc = 0.0\n",
    "best_model_name = \"\"\n",
    "Overall_best_model = None\n",
    "best_log_model = None\n",
    "best_rand_model = None"
   ]
  },
  {
   "cell_type": "code",
   "execution_count": 24,
   "id": "d32e8511",
   "metadata": {},
   "outputs": [
    {
     "name": "stdout",
     "output_type": "stream",
     "text": [
      "Model : LogisticRegression\n",
      "K-Fold (5) Cross-Validation Accuracies: [0.9274193548387096, 0.9415322580645161, 0.9212121212121213, 0.9151515151515152, 0.9212121212121213]\n",
      "LogisticRegression: Average accuracy: 0.9253\n",
      "------------------------------\n",
      "Model : RandomForest\n",
      "K-Fold (5) Cross-Validation Accuracies: [0.9092741935483871, 0.9213709677419355, 0.9050505050505051, 0.8888888888888888, 0.896969696969697]\n",
      "RandomForest: Average accuracy: 0.9043\n",
      "------------------------------\n"
     ]
    }
   ],
   "source": [
    "# compare each model and find the best trained model and best method\n",
    "for name, model in models.items():\n",
    "    accuracies = []\n",
    "    best_accuracy = 0.0\n",
    "    \n",
    "    # Use Kfold method and find best trained model for each method\n",
    "    for train_index, test_index in kf.split(x_dataset):\n",
    "        \n",
    "        # Separete training and testing dataset\n",
    "        X_train, X_test = x_dataset.iloc[train_index], x_dataset.iloc[test_index]\n",
    "        y_train, y_test = y_dataset.iloc[train_index], y_dataset.iloc[test_index]\n",
    "\n",
    "        # Create a fresh model instance\n",
    "        model_instance = model.__class__()\n",
    "        \n",
    "        # Train and predict the accuracies\n",
    "        model_instance.fit(X_train, y_train)\n",
    "\n",
    "        y_pred = model_instance.predict(X_test)\n",
    "        acc = accuracy_score(y_test, y_pred)\n",
    "        \n",
    "        accuracies.append(acc)\n",
    "        \n",
    "        # Save the best fold model for each method\n",
    "        if acc > best_accuracy:\n",
    "            best_accuracy = acc\n",
    "            if name == \"LogisticRegression\":               \n",
    "                best_log_model = model_instance\n",
    "            else:\n",
    "                best_rand_model = model_instance\n",
    "                \n",
    "        \n",
    "    \n",
    "    avg_acc = sum(accuracies) / len(accuracies)\n",
    "    \n",
    "    # Find the best method and extract best trained model from that method\n",
    "    if avg_acc > best_avg_acc:\n",
    "        best_avg_acc = avg_acc\n",
    "        best_model_name = name\n",
    "        if name == \"LogisticRegression\":\n",
    "            Overall_best_model = best_log_model\n",
    "        else:\n",
    "            Overall_best_model = best_rand_model\n",
    "    \n",
    "    print(f\"Model : {name}\")\n",
    "    print(f\"K-Fold ({k}) Cross-Validation Accuracies: {accuracies}\")\n",
    "    print(f\"{name}: Average accuracy: {avg_acc:.4f}\")\n",
    "    print(\"-\"*30)\n",
    "\n"
   ]
  },
  {
   "cell_type": "code",
   "execution_count": 158,
   "id": "a7b4bbea",
   "metadata": {},
   "outputs": [
    {
     "name": "stdout",
     "output_type": "stream",
     "text": [
      "Best_model: LogisticRegression\n",
      "\n",
      "Overall Best Model: LogisticRegression with Avg Accuracy: 0.9253\n"
     ]
    }
   ],
   "source": [
    "print(f\"Best_model: {best_model_name}\")\n",
    "print(f\"\\nOverall Best Model: {best_model_name} with Avg Accuracy: {best_avg_acc:.4f}\")"
   ]
  },
  {
   "cell_type": "code",
   "execution_count": 159,
   "id": "66eb6926",
   "metadata": {},
   "outputs": [
    {
     "name": "stdout",
     "output_type": "stream",
     "text": [
      "Saved as 'best_model.pkl'\n"
     ]
    }
   ],
   "source": [
    "# Save best model\n",
    "joblib.dump(Overall_best_model, \"best_model.pkl\")\n",
    "print(\"Saved as 'best_model.pkl'\")"
   ]
  }
 ],
 "metadata": {
  "kernelspec": {
   "display_name": "Python 3",
   "language": "python",
   "name": "python3"
  },
  "language_info": {
   "codemirror_mode": {
    "name": "ipython",
    "version": 3
   },
   "file_extension": ".py",
   "mimetype": "text/x-python",
   "name": "python",
   "nbconvert_exporter": "python",
   "pygments_lexer": "ipython3",
   "version": "3.13.2"
  }
 },
 "nbformat": 4,
 "nbformat_minor": 5
}
